{
 "cells": [
  {
   "attachments": {},
   "cell_type": "markdown",
   "metadata": {},
   "source": [
    "# **<center><mark> Basic Distributions and Statistical Tests </mark> </center>**"
   ]
  },
  {
   "attachments": {},
   "cell_type": "markdown",
   "metadata": {},
   "source": [
    "rvs: Random Variates\n",
    "\n",
    "pdf: Probability Density Function\n",
    "\n",
    "cdf: Cumulative Distribution Function\n",
    "\n",
    "sf: Survival Function (1-CDF)\n",
    "\n",
    "ppf: Percent Point Function (Inverse of CDF)\n",
    "\n",
    "isf: Inverse Survival Function (Inverse of SF)\n",
    "\n",
    "stats: Return mean, variance, (Fisher’s) skew, or (Fisher’s) kurtosis\n",
    "\n",
    "moment: non-central moments of the distribution"
   ]
  },
  {
   "cell_type": "code",
   "execution_count": 2,
   "metadata": {},
   "outputs": [],
   "source": [
    "%matplotlib inline\n",
    "# necessary \n",
    "import pandas as pd\n",
    "import numpy as np\n",
    "\n",
    "# graphing models\n",
    "import matplotlib.pyplot as plt\n",
    "import seaborn as sns\n",
    "\n",
    "# statistical models\n",
    "from scipy import stats \n",
    "import statsmodels.api as sm\n",
    "\n",
    "# time measurement\n",
    "import time\n",
    "\n",
    "start = time.time()"
   ]
  },
  {
   "attachments": {},
   "cell_type": "markdown",
   "metadata": {},
   "source": [
    "<hr style=\"height:10px;border:none;background-color:rgb(255, 255, 0);\">"
   ]
  },
  {
   "cell_type": "code",
   "execution_count": 3,
   "metadata": {},
   "outputs": [],
   "source": [
    "start = time.time()"
   ]
  },
  {
   "attachments": {},
   "cell_type": "markdown",
   "metadata": {},
   "source": [
    "### Continuous Uniform distribution"
   ]
  },
  {
   "attachments": {},
   "cell_type": "markdown",
   "metadata": {},
   "source": [
    "\\begin{equation*}\n",
    "  Mean = \\frac{a+b}{2}\n",
    "\\end{equation*}\n",
    "\n",
    "\\begin{equation*}\n",
    "  Mode = any\\ value\\ from\\ (a,b)\n",
    "\\end{equation*}\n",
    "\n",
    "\\begin{equation*}\n",
    "  Median = \\frac{a+b}{2}\n",
    "\\end{equation*}\n",
    "\n",
    "\\begin{equation*}\n",
    "  Variance = \\frac{b-a}{4}\n",
    "\\end{equation*}"
   ]
  },
  {
   "cell_type": "code",
   "execution_count": 4,
   "metadata": {},
   "outputs": [
    {
     "data": {
      "image/png": "[encoded data removed]",
      "text/plain": [
       "<Figure size 1440x360 with 2 Axes>"
      ]
     },
     "metadata": {
      "needs_background": "light"
     },
     "output_type": "display_data"
    },
    {
     "name": "stdout",
     "output_type": "stream",
     "text": [
      "Mean is: 0.5\n",
      "Variance is: 0.08333333333333333\n",
      "Skewness is: 0.0\n",
      "Kurtosis is: -1.2\n"
     ]
    }
   ],
   "source": [
    "fig, (ax1, ax2) = plt.subplots(1, 2, figsize = (20,5))\n",
    "fig.suptitle('Non-Density Vs. Density graph')\n",
    "\n",
    "# Setting distribution (uniform on [0, 1]) and sample size\n",
    "distribution = stats.uniform(loc=0, scale=1)\n",
    "sample =  distribution.rvs(size=10000)\n",
    "\n",
    "# To get the first four moments of the distribution\n",
    "mean, var, skew, kurt = distribution.stats(moments = 'mvsk')\n",
    "\n",
    "# Density = True means that the area under the graph integrates to 1. alpha is opacity of graph\n",
    "ax1.set_xlim(0,1); ax1.set_xlabel('Value'); ax1.set_ylabel('Count')\n",
    "ax1.hist(sample,density = False, bins = 'auto', color = 'b', histtype = 'stepfilled', alpha = 0.5)\n",
    "\n",
    "# # Density = True means that the area under the graph integrates to 1. alpha is opacity of graph\n",
    "ax2.set_xlim(0,1); ax2.set_xlabel('Value'); ax2.set_ylabel('Density')\n",
    "ax2.hist(sample,density = True, bins = 'auto', color = 'k', histtype = 'stepfilled', alpha = 0.5)\n",
    "\n",
    "# Show plots\n",
    "plt.show()\n",
    "\n",
    "\n",
    "print('Mean is:',mean); print('Variance is:',var); \n",
    "print('Skewness is:',skew); print('Kurtosis is:',kurt)"
   ]
  },
  {
   "attachments": {},
   "cell_type": "markdown",
   "metadata": {},
   "source": [
    "<hr style=\"height:10px;border:none;background-color:rgb(255, 255, 0);\">"
   ]
  },
  {
   "attachments": {},
   "cell_type": "markdown",
   "metadata": {},
   "source": [
    "### Normal Distribution"
   ]
  },
  {
   "attachments": {},
   "cell_type": "markdown",
   "metadata": {},
   "source": [
    "\\begin{equation*}\n",
    "  Mean =\\mu\n",
    "\\end{equation*}\n",
    "\n",
    "\\begin{equation*}\n",
    "  Mode =\\mu\n",
    "\\end{equation*}\n",
    "\n",
    "\\begin{equation*}\n",
    "  Median =\\mu\n",
    "\\end{equation*}\n",
    "\n",
    "\\begin{equation*}\n",
    "  Variance =\\sigma^2\n",
    "\\end{equation*}"
   ]
  },
  {
   "cell_type": "code",
   "execution_count": 5,
   "metadata": {},
   "outputs": [
    {
     "data": {
      "image/png": "[encoded data removed]",
      "text/plain": [
       "<Figure size 1440x360 with 1 Axes>"
      ]
     },
     "metadata": {
      "needs_background": "light"
     },
     "output_type": "display_data"
    },
    {
     "name": "stdout",
     "output_type": "stream",
     "text": [
      "Mean is: 0.0\n",
      "Variance is: 1.0\n",
      "Skewness is: 0.0\n",
      "Kurtosis is: 0.0\n"
     ]
    }
   ],
   "source": [
    "fig, ax = plt.subplots(1, 1, figsize = (20,5))\n",
    "fig.suptitle('Normal Distribution')\n",
    "\n",
    "# norm.pdf(x, loc, scale) = norm.pdf(y) / scale, with y = (x - loc) / scale.\n",
    "# loc specifies the mean and scale specifies the standard deviation\n",
    "distribution = stats.norm(loc=0, scale=1)\n",
    "sample =  distribution.rvs(size=1000)\n",
    "\n",
    "# pdf values to correspond with the xlim values\n",
    "# The 68-95-99.7 rule, where nearly all values lie within 3 standard deviations of the mean.\n",
    "# This should be sufficient to show our graph\n",
    "normal_curve = np.linspace(stats.norm.ppf(0.003),\n",
    "                stats.norm.ppf(0.997), 1000)\n",
    "\n",
    "# To get the first four moments of the distribution\n",
    "mean, var, skew, kurt = distribution.stats(moments = 'mvsk')\n",
    "\n",
    "# Set the shape and parameters of the example normal curve\n",
    "ax.plot(normal_curve, stats.norm.pdf(normal_curve),'k+', lw=5, label='frozen pdf')\n",
    "\n",
    "# Density = True means that the area under the graph integrates to 1. alpha is opacity of graph\n",
    "ax.set_xlim(normal_curve[0],normal_curve[-1]); ax.set_xlabel('Value'); ax.set_ylabel('Density')\n",
    "ax.hist(sample,density = True, bins = 'auto', color = 'b', histtype = 'stepfilled', alpha = 0.5)\n",
    "ax.legend()\n",
    "\n",
    "# Show plots\n",
    "plt.show()\n",
    "\n",
    "print('Mean is:',mean); print('Variance is:',var); \n",
    "print('Skewness is:',skew); print('Kurtosis is:',kurt)"
   ]
  },
  {
   "attachments": {},
   "cell_type": "markdown",
   "metadata": {},
   "source": [
    "Shapiro-Wilk test"
   ]
  },
  {
   "cell_type": "code",
   "execution_count": 6,
   "metadata": {},
   "outputs": [
    {
     "name": "stdout",
     "output_type": "stream",
     "text": [
      "pvalue is: 0.04525607451796532 < 0.05 .Thus, the the null hypothesis that the distribution is normal IS rejected\n"
     ]
    }
   ],
   "source": [
    "# to test if the distribution is normal, if p < 0.05 then the null hypothesis that the distribution is normal is rejected\n",
    "shapiro_test = stats.shapiro(sample)\n",
    "\n",
    "if shapiro_test.pvalue < 0.05:\n",
    "    print('pvalue is:',shapiro_test.pvalue, '< 0.05 .Thus, the the null hypothesis that the distribution is normal IS rejected')\n",
    "else:\n",
    "    print('pvalue is:',shapiro_test.pvalue, '> 0.05 .Thus, the the null hypothesis that the distribution is normal IS NOT rejected')\n"
   ]
  },
  {
   "attachments": {},
   "cell_type": "markdown",
   "metadata": {},
   "source": [
    "<hr style=\"height:10px;border:none;background-color:rgb(255, 255, 0);\">"
   ]
  },
  {
   "attachments": {},
   "cell_type": "markdown",
   "metadata": {},
   "source": [
    "### Binomial Distribution"
   ]
  },
  {
   "attachments": {},
   "cell_type": "markdown",
   "metadata": {},
   "source": [
    "\\begin{equation*}\n",
    "  Mean = np\n",
    "\\end{equation*}\n",
    "\n",
    "\\begin{equation*}\n",
    "  Mode = \\lfloor(n+1)p\\rfloor \\ or \\ \\lceil(n+1)p\\rceil -1\n",
    "\\end{equation*}\n",
    "\n",
    "\\begin{equation*}\n",
    "  Median = \\lfloor np \\rfloor \\ or \\ \\lceil np \\rceil\n",
    "\\end{equation*}\n",
    "\n",
    "\\begin{equation*}\n",
    "  Variance = npq\n",
    "\\end{equation*}"
   ]
  },
  {
   "cell_type": "code",
   "execution_count": 7,
   "metadata": {},
   "outputs": [
    {
     "data": {
      "image/png": "[encoded data removed]",
      "text/plain": [
       "<Figure size 1440x360 with 1 Axes>"
      ]
     },
     "metadata": {
      "needs_background": "light"
     },
     "output_type": "display_data"
    },
    {
     "name": "stdout",
     "output_type": "stream",
     "text": [
      "Mean is: 500.0\n",
      "Variance is: 250.0\n",
      "Skewness is: 0.0\n",
      "Kurtosis is: -0.002\n"
     ]
    }
   ],
   "source": [
    "fig, ax = plt.subplots(1, 1, figsize = (20,5))\n",
    "fig.suptitle('Binomial Distribution')\n",
    "\n",
    "# binom.pmf(k, n, p, loc) = binom.pmf(k - loc, n, p)\n",
    "# n is the size and p is the probability\n",
    "n = 1000; p=0.5\n",
    "Binomial_curve = np.arange(stats.binom.ppf(0.003, n, p),\n",
    "                           stats.binom.ppf(0.997, n, p))\n",
    "\n",
    "# setting binomial sample\n",
    "distribution = stats.binom(n,p)\n",
    "sample =  distribution.rvs(size=1000)\n",
    "\n",
    "# To get the first four moments of the distribution\n",
    "mean, var, skew, kurt = distribution.stats(moments = 'mvsk')\n",
    "\n",
    "# Set the shape and parameters of the example binomial curve\n",
    "ax.plot(Binomial_curve, stats.binom.pmf(Binomial_curve, n, p), 'r+', ms = 10, label='frozen pmf')\n",
    "\n",
    "# Density = True means that the area under the graph integrates to 1. alpha is opacity of graph\n",
    "ax.set_xlabel('Number of Successes'); ax.set_ylabel('pmf')\n",
    "ax.hist(sample,density = True, bins = 'auto', color = 'b', histtype = 'stepfilled', alpha = 0.5)\n",
    "ax.legend()\n",
    "\n",
    "# Show plots\n",
    "plt.show()\n",
    "\n",
    "print('Mean is:',mean); print('Variance is:',var); \n",
    "print('Skewness is:',skew); print('Kurtosis is:',kurt)"
   ]
  },
  {
   "attachments": {},
   "cell_type": "markdown",
   "metadata": {},
   "source": [
    "Binomial test"
   ]
  },
  {
   "cell_type": "code",
   "execution_count": 8,
   "metadata": {},
   "outputs": [
    {
     "name": "stdout",
     "output_type": "stream",
     "text": [
      "0.025225018178360824\n",
      "pvalue is: 0.51261250908918 > 0.05 .Thus, the the null hypothesis that no more than 50% of trials will succeed is NOT rejected\n"
     ]
    }
   ],
   "source": [
    "# k is number of successes, n is number of trials, p is probability of success of trial\n",
    "\n",
    "# Calculate Binomial probability of 500 successes where the probability of success is 50% with 1000 trials \n",
    "print(stats.binom.pmf(k=500, n=1000, p=0.5))\n",
    "\n",
    "# Simple Binomial hypothesis testing with the claim that NO MORE than 50% of trials will succeed.\n",
    "# The probability of success is 50% with 1000 trials and 500 successes recorded.\n",
    "binom_test = stats.binomtest(k=500, n=1000, p=0.5, alternative='greater')\n",
    "\n",
    "if binom_test.pvalue < 0.05:\n",
    "    print('pvalue is:',binom_test.pvalue, '< 0.05 .Thus, the the null hypothesis that no more than 50% of trials will succeed IS rejected')\n",
    "else:\n",
    "    print('pvalue is:',binom_test.pvalue, '> 0.05 .Thus, the the null hypothesis that no more than 50% of trials will succeed is NOT rejected')"
   ]
  },
  {
   "attachments": {},
   "cell_type": "markdown",
   "metadata": {},
   "source": [
    "<hr style=\"height:10px;border:none;background-color:rgb(255, 255, 0);\">"
   ]
  },
  {
   "attachments": {},
   "cell_type": "markdown",
   "metadata": {},
   "source": [
    "### Exponential Distribution"
   ]
  },
  {
   "attachments": {},
   "cell_type": "markdown",
   "metadata": {},
   "source": [
    "\\begin{equation*}\n",
    "  Mean = \\frac{1}{\\lambda}\n",
    "\\end{equation*}\n",
    "\n",
    "\\begin{equation*}\n",
    "  Mode = 0\n",
    "\\end{equation*}\n",
    "\n",
    "\\begin{equation*}\n",
    "  Median = \\frac{\\ln2}{\\lambda}\n",
    "\\end{equation*}\n",
    "\n",
    "\\begin{equation*}\n",
    "  Variance = \\frac{1}{\\lambda^2}\n",
    "\\end{equation*}"
   ]
  },
  {
   "cell_type": "code",
   "execution_count": 9,
   "metadata": {},
   "outputs": [
    {
     "data": {
      "image/png": "[encoded data removed]",
      "text/plain": [
       "<Figure size 1440x360 with 1 Axes>"
      ]
     },
     "metadata": {
      "needs_background": "light"
     },
     "output_type": "display_data"
    },
    {
     "name": "stdout",
     "output_type": "stream",
     "text": [
      "Mean is: 1.0\n",
      "Variance is: 1.0\n",
      "Skewness is: 2.0\n",
      "Kurtosis is: 6.0\n"
     ]
    }
   ],
   "source": [
    "fig, ax = plt.subplots(1, 1, figsize = (20,5))\n",
    "fig.suptitle('Exponential Distribution')\n",
    "\n",
    "# setting sample\n",
    "distribution = stats.expon()\n",
    "sample =  distribution.rvs(size=1000)\n",
    "\n",
    "# expon.pdf(x, loc, scale) = expon.pdf(y) / scale, with y = (x - loc) / scale\n",
    "# The samples for example exponential curve\n",
    "Exponential_curve = np.linspace(stats.expon.ppf(0.003),\n",
    "                                stats.expon.ppf(0.997),1000)\n",
    "\n",
    "# To get the first four moments of the distribution\n",
    "mean, var, skew, kurt = stats.expon.stats(moments ='mvsk')\n",
    "\n",
    "# Set the shape and parameters of the example Exponential curve\n",
    "ax.plot(Exponential_curve, stats.expon.pdf(Exponential_curve),\n",
    "       'r+', lw=5, alpha=0.5, label='exponential_pdf')\n",
    "\n",
    "#  Output the exponential graph\n",
    "ax.set_xlabel('Value'); ax.set_ylabel('pmf')\n",
    "ax.set_xlim(Exponential_curve[0],Exponential_curve[-1])\n",
    "ax.hist(sample,density = True, bins = 'auto', color = 'b', histtype = 'stepfilled', alpha = 0.5)\n",
    "ax.legend()\n",
    "\n",
    "# Show plots\n",
    "plt.show()\n",
    "\n",
    "print('Mean is:',mean); print('Variance is:',var); \n",
    "print('Skewness is:',skew); print('Kurtosis is:',kurt)"
   ]
  },
  {
   "attachments": {},
   "cell_type": "markdown",
   "metadata": {},
   "source": [
    "Exponential Distribution Test"
   ]
  },
  {
   "attachments": {},
   "cell_type": "markdown",
   "metadata": {},
   "source": [
    "<blockquote>Could use the ks tests or the goodness of fit test to compare the sample distribution with the generated Exponential Distribution. <br> Can be found in the 'Other Statistical tests section' at the bottom. </blockquote>"
   ]
  },
  {
   "attachments": {},
   "cell_type": "markdown",
   "metadata": {},
   "source": [
    "<hr style=\"height:10px;border:none;background-color:rgb(255, 255, 0);\">"
   ]
  },
  {
   "attachments": {},
   "cell_type": "markdown",
   "metadata": {},
   "source": [
    "### Poisson Distribution"
   ]
  },
  {
   "attachments": {},
   "cell_type": "markdown",
   "metadata": {},
   "source": [
    "\\begin{equation*}\n",
    "  Mean = \\lambda\n",
    "\\end{equation*}\n",
    "\n",
    "\\begin{equation*}\n",
    "  Mode = \\lceil\\lambda\\rceil - 1,\\lambda\n",
    "\\end{equation*}\n",
    "\n",
    "\\begin{equation*}\n",
    "  Median \\approx \\lfloor \\lambda + \\frac{1}{3} - \\frac{1}{50\\lambda} \\rfloor\n",
    "\\end{equation*}\n",
    "\n",
    "\\begin{equation*}\n",
    "  Variance = \\lambda\n",
    "\\end{equation*}"
   ]
  },
  {
   "cell_type": "code",
   "execution_count": 10,
   "metadata": {},
   "outputs": [
    {
     "data": {
      "image/png": "[encoded data removed]",
      "text/plain": [
       "<Figure size 1440x360 with 1 Axes>"
      ]
     },
     "metadata": {
      "needs_background": "light"
     },
     "output_type": "display_data"
    },
    {
     "name": "stdout",
     "output_type": "stream",
     "text": [
      "Mean is: 1.0\n",
      "Variance is: 1.0\n",
      "Skewness is: 2.0\n",
      "Kurtosis is: 6.0\n"
     ]
    }
   ],
   "source": [
    "fig, ax = plt.subplots(1, 1, figsize = (20,5))\n",
    "fig.suptitle('Poisson Distribution')\n",
    "\n",
    "# setting sample\n",
    "distribution = stats.poisson(mu=1)\n",
    "sample =  distribution.rvs(size=1000)\n",
    "\n",
    "# The samples for example poisson curve\n",
    "mu = 1\n",
    "Poisson_curve = np.linspace(stats.poisson.ppf(0.003,mu),\n",
    "                            stats.poisson.ppf(0.997,mu))\n",
    "\n",
    "# To get the first four moments of the distribution\n",
    "mean, var, skew, kurt = stats.expon.stats(moments ='mvsk')\n",
    "\n",
    "# Set the shape and parameters of the example Exponential curve\n",
    "ax.plot(Poisson_curve, stats.poisson.pmf(Poisson_curve,1), \n",
    "        'r+', lw=5, alpha=0.5, label='exponential_pdf')\n",
    "\n",
    "#  Output the exponential graph\n",
    "ax.set_xlabel('Value'); ax.set_ylabel('pmf')\n",
    "ax.set_xlim(Poisson_curve[0],Poisson_curve[-1])\n",
    "ax.hist(sample, bins = 'auto', color = 'b', histtype = 'stepfilled', alpha = 0.5)\n",
    "ax.legend()\n",
    "\n",
    "# Show plots\n",
    "plt.show()\n",
    "\n",
    "print('Mean is:',mean); print('Variance is:',var); \n",
    "print('Skewness is:',skew); print('Kurtosis is:',kurt)"
   ]
  },
  {
   "attachments": {},
   "cell_type": "markdown",
   "metadata": {},
   "source": [
    "Poisson Exact Test"
   ]
  },
  {
   "cell_type": "code",
   "execution_count": 11,
   "metadata": {},
   "outputs": [
    {
     "name": "stdout",
     "output_type": "stream",
     "text": [
      "pvalue is: 0.11908457897693743 > 0.05 .Thus, the null hypothesis, the difference between means of two Poisson distributions is not significant IS NOT rejected.\n"
     ]
    }
   ],
   "source": [
    "# Assuming the two distributions are verified to be Poisson Distributions\n",
    "# This is to reject or not reject the Null hypothesis that the difference between means of two Poisson distributions is not significant\n",
    "# The test is useful even if the sample sizes are different\n",
    "control_count = 5\n",
    "control_sample = 100 \n",
    "test_count = 20\n",
    "test_sample = 200\n",
    "poisson_test = stats.poisson_means_test(control_count, control_sample, test_count, test_sample)\n",
    "\n",
    "if poisson_test.pvalue < 0.05:\n",
    "    print('pvalue is:',poisson_test.pvalue, '< 0.05 .Thus, the null hypothesis, the difference between means of two Poisson distributions is not significant IS rejected.')\n",
    "else:\n",
    "    print('pvalue is:',poisson_test.pvalue, '> 0.05 .Thus, the null hypothesis, the difference between means of two Poisson distributions is not significant IS NOT rejected.')"
   ]
  },
  {
   "attachments": {},
   "cell_type": "markdown",
   "metadata": {},
   "source": [
    "Applications of Poisson in Finance"
   ]
  },
  {
   "cell_type": "code",
   "execution_count": 12,
   "metadata": {},
   "outputs": [
    {
     "name": "stdout",
     "output_type": "stream",
     "text": [
      "Probability of 60 customers in a day is: 0.020104872145675377\n",
      "Probability of 7 or less price jumps in a day is: 0.220220646601699\n",
      "pvalue is: 0.11908457897693743 > 0.05 .Thus, the null hypothesis, the difference between means of Order and Cancellation is not significant IS NOT rejected.\n"
     ]
    }
   ],
   "source": [
    "# mu is mean for specific time interval, k is number of occurences for specific time interval\n",
    "\n",
    "# 1. Find probability that the customers come to the store per day given i.i.d\n",
    "# Mean customers per day is 50 and we want to find the probability that 60 customers appear\n",
    "print('Probability of 60 customers in a day is:',stats.poisson.pmf(mu = 50,k = 60))\n",
    "\n",
    "# 2. Example would be modeling stock price jumps during a normal market condition\n",
    "# Suppose price jumps has known constant mean (mu = 10) and are i.i.d in time interval of 1 day\n",
    "# We want to find the probability that number of price jumps is less than or equal to 7\n",
    "print('Probability of 7 or less price jumps in a day is:',stats.poisson.cdf(mu = 10, k = 7))\n",
    "\n",
    "# 3. Suppose we are checking Order arrivals and cancellations \n",
    "# They are assumed to be Poisson random processes https://arxiv.org/abs/cond-mat/0112422\n",
    "Order_count = 5\n",
    "Order_sample = 100 \n",
    "Cancellation_count = 20\n",
    "Cancellation_sample = 200\n",
    "poisson_test = stats.poisson_means_test(Order_count, Order_sample, Cancellation_count, Cancellation_sample)\n",
    "\n",
    "if poisson_test.pvalue < 0.05:\n",
    "    print('pvalue is:',poisson_test.pvalue, '< 0.05 .Thus, the null hypothesis, the difference between means of Order and Cancellation is not significant IS rejected.')\n",
    "else:\n",
    "    print('pvalue is:',poisson_test.pvalue, '> 0.05 .Thus, the null hypothesis, the difference between means of Order and Cancellation is not significant IS NOT rejected.')\n",
    "\n",
    "# http://faculty.baruch.cuny.edu/jgatheral/JumpDiffusionModels.pdf\n"
   ]
  },
  {
   "attachments": {},
   "cell_type": "markdown",
   "metadata": {},
   "source": [
    "<hr style=\"height:10px;border:none;background-color:rgb(255, 255, 0);\">"
   ]
  },
  {
   "attachments": {},
   "cell_type": "markdown",
   "metadata": {},
   "source": [
    "### Lognormal Distribution"
   ]
  },
  {
   "attachments": {},
   "cell_type": "markdown",
   "metadata": {},
   "source": [
    "\\begin{equation*}\n",
    "  Mean =\\exp ( \\mu +\n",
    "  \\frac{\\sigma^2}\n",
    "  {2})\n",
    "\\end{equation*}\n",
    "\n",
    "\\begin{equation*}\n",
    "  Mode =\\exp (\\mu -\n",
    "  \\sigma^2)  \n",
    "\\end{equation*}\n",
    "\n",
    "\\begin{equation*}\n",
    "  Median =\\exp (\\mu) \n",
    "\\end{equation*}\n",
    "\n",
    "\\begin{equation*}\n",
    "  Variance = [\\exp (\\sigma^2 - 1)](\\exp (2\\mu + \\sigma^2))\n",
    "\\end{equation*}"
   ]
  },
  {
   "cell_type": "code",
   "execution_count": 13,
   "metadata": {},
   "outputs": [
    {
     "data": {
      "image/png": "[encoded data removed]",
      "text/plain": [
       "<Figure size 1440x360 with 2 Axes>"
      ]
     },
     "metadata": {
      "needs_background": "light"
     },
     "output_type": "display_data"
    },
    {
     "name": "stdout",
     "output_type": "stream",
     "text": [
      "Mean is: 1.6487212707001282\n",
      "Variance is: 4.670774270471604\n",
      "Skewness is: 6.184877138632554\n",
      "Kurtosis is: 110.9363921763115\n",
      "Since skewness is 6.184877138632554 > 0 which is positively high, the normal distribution derived from taking the log function of the samples is right-skewed\n"
     ]
    }
   ],
   "source": [
    "fig, axes = plt.subplots(1,2, figsize = (20,5))\n",
    "fig.suptitle(\"Lognormal Vs. Normal distribution\")\n",
    "\n",
    "# mean and standard deviation\n",
    "mu, sigma = 1, 1\n",
    "distribution = stats.lognorm(mu,sigma)\n",
    "sample =  distribution.rvs(size=1000)\n",
    "\n",
    "mean, var, skew, kurt = stats.lognorm.stats(s = 1, moments ='mvsk')\n",
    "\n",
    "# create histogramplot in each subplot, subplots dont allow distribution plots but they are similar in nature \n",
    "axes[0].set_title('Lognormal') ; axes[1].set_title('Normal') \n",
    "sns.histplot(data = sample,ax=axes[0]);\n",
    "sns.histplot(data = np.log(sample),ax=axes[1]);\n",
    "plt.show()\n",
    "\n",
    "print('Mean is:',mean); print('Variance is:',var); \n",
    "print('Skewness is:',skew); print('Kurtosis is:',kurt)\n",
    "print('Since skewness is 6.184877138632554 > 0 which is positively high, the normal distribution derived from taking the log function of the samples is right-skewed')"
   ]
  },
  {
   "attachments": {},
   "cell_type": "markdown",
   "metadata": {},
   "source": [
    "Lognormal Distribution Test"
   ]
  },
  {
   "attachments": {},
   "cell_type": "markdown",
   "metadata": {},
   "source": [
    "<blockquote>Could use the ks tests or the goodness of fit test to compare the sample distribution with the generated Lognormal Distribution. <br> Can be found in the 'Other Statistical tests section' at the bottom. <br>\n",
    "Another could be QQplot. </blockquote>"
   ]
  },
  {
   "cell_type": "code",
   "execution_count": 22,
   "metadata": {},
   "outputs": [
    {
     "data": {
      "image/png": "[encoded data removed]",
      "text/plain": [
       "<Figure size 1440x360 with 1 Axes>"
      ]
     },
     "metadata": {
      "needs_background": "light"
     },
     "output_type": "display_data"
    }
   ],
   "source": [
    "mu = 1; sigma = 1\n",
    "distribution = stats.lognorm(mu,sigma)\n",
    "sample =  distribution.rvs(size=1000)\n",
    "\n",
    "fig, axes = plt.subplots(1,1, figsize = (20,5))\n",
    "fig = sm.qqplot(np.log(sample), fit=True, line=\"45\",ax = axes)\n",
    "plt.show()"
   ]
  },
  {
   "attachments": {},
   "cell_type": "markdown",
   "metadata": {},
   "source": [
    "<hr style=\"height:10px;border:none;background-color:rgb(255, 255, 0);\">"
   ]
  },
  {
   "attachments": {},
   "cell_type": "markdown",
   "metadata": {},
   "source": [
    "### Power Law Distribution (Pareto)"
   ]
  },
  {
   "attachments": {},
   "cell_type": "markdown",
   "metadata": {},
   "source": [
    "$$Mean=\\\n",
    "\\left\\{ \n",
    "  \\begin{aligned}\n",
    "  \\infty \\ ,\\quad for \\ \\alpha \\leq 1 \\\\\n",
    "  \\frac{\\alpha x_{m}}{\\alpha - 1} \\ , \\quad for \\ \\alpha > 1 \\\\\n",
    "  \\end{aligned}\n",
    "\\right.\n",
    "$$\n",
    "\n",
    "\\begin{equation*}\n",
    "  Mode = x_{m}\n",
    "\\end{equation*}\n",
    "\n",
    "\\begin{equation*}\n",
    "  Median = x_{m} \\sqrt[\\alpha] 2\n",
    "\\end{equation*}\n",
    "\n",
    "$$Variance=\\\n",
    "\\left\\{ \n",
    "  \\begin{aligned}\n",
    "  \\infty \\ ,\\quad for \\ \\alpha \\leq 2\\\\\n",
    "  \\frac{\\alpha x_{m}^2}{(\\alpha - 1)^2(\\alpha - 2)} \\ , \\quad for \\ \\alpha > 2\\\\\n",
    "  \\end{aligned}\n",
    "\\right.\n",
    "$$\n"
   ]
  },
  {
   "cell_type": "code",
   "execution_count": 29,
   "metadata": {},
   "outputs": [
    {
     "data": {
      "image/png": "[encoded data removed]",
      "text/plain": [
       "<Figure size 1440x360 with 1 Axes>"
      ]
     },
     "metadata": {
      "needs_background": "light"
     },
     "output_type": "display_data"
    }
   ],
   "source": [
    "fig, ax = plt.subplots(1, 1, figsize = (20,5))\n",
    "fig.suptitle(\"PowerLaw distribution\")\n",
    "\n",
    "# powerlaw.pdf(x, a, loc, scale) = powerlaw.pdf(y, a) / scale, with  y = (x - loc) / scale.\n",
    "a = 0.8\n",
    "mean, var, skew, kurt = stats.powerlaw.stats(a, moments='mvsk')\n",
    "\n",
    "# The samples for example poisson curve\n",
    "mu = 1\n",
    "powerlaw_curve = np.linspace(stats.powerlaw.ppf(0.003,a),\n",
    "                            stats.powerlaw.ppf(0.997,a),1000)\n",
    "\n",
    "ax.plot(powerlaw_curve, stats.powerlaw.pdf(powerlaw_curve,a), 'r+', lw=5, label='frozen pdf')\n",
    "\n",
    "# setting sample\n",
    "distribution = stats.powerlaw(a)\n",
    "sample =  distribution.rvs(size=1000)\n",
    "\n",
    "ax.hist(sample, density=True, bins='auto', histtype='stepfilled', alpha=0.2)\n",
    "ax.set_xlim([powerlaw_curve[0], powerlaw_curve[-1]])\n",
    "ax.legend(loc='best', frameon=False)\n",
    "plt.show()"
   ]
  },
  {
   "attachments": {},
   "cell_type": "markdown",
   "metadata": {},
   "source": [
    "Powerlaw Distribution Test"
   ]
  },
  {
   "attachments": {},
   "cell_type": "markdown",
   "metadata": {},
   "source": [
    "<blockquote>Could use the ks tests or the goodness of fit test to compare the sample distribution with the generated Lognormal Distribution. <br> Can be found in the 'Other Statistical tests section' at the bottom. </blockquote>"
   ]
  },
  {
   "attachments": {},
   "cell_type": "markdown",
   "metadata": {},
   "source": [
    "<hr style=\"height:10px;border:none;background-color:rgb(255, 255, 0);\">"
   ]
  },
  {
   "attachments": {},
   "cell_type": "markdown",
   "metadata": {},
   "source": [
    "### Law of Large Numbers"
   ]
  },
  {
   "attachments": {},
   "cell_type": "markdown",
   "metadata": {},
   "source": [
    "<blockquote> We can observe the law of large numbers from any probability distributions. <br> General rule of thumb is sample size > 30. As the sample size increases, the sample mean approaches the expected mean of the distribution. </blockquote>"
   ]
  },
  {
   "cell_type": "code",
   "execution_count": 16,
   "metadata": {},
   "outputs": [
    {
     "name": "stdout",
     "output_type": "stream",
     "text": [
      "Sample mean is: 100.450999999999993\n",
      "Expected mean is: 1.0\n"
     ]
    }
   ],
   "source": [
    "# show for the various distributions.\n",
    "def large_numbers(mu,size):\n",
    "    distribution = stats.poisson(mu=mu)\n",
    "    sample =  distribution.rvs(size=size)\n",
    "    mean, var, skew, kurt = stats.expon.stats(moments ='mvsk')\n",
    "    print('Sample mean is:',str.format('{0:.15f}', sum(sample)/size))\n",
    "    print('Expected mean is:',mean)\n",
    "\n",
    "large_numbers(100,1000)"
   ]
  },
  {
   "attachments": {},
   "cell_type": "markdown",
   "metadata": {},
   "source": [
    "<hr style=\"height:10px;border:none;background-color:rgb(255, 255, 0);\">"
   ]
  },
  {
   "attachments": {},
   "cell_type": "markdown",
   "metadata": {},
   "source": [
    "### Other Statistical Tests"
   ]
  },
  {
   "attachments": {},
   "cell_type": "markdown",
   "metadata": {},
   "source": [
    "Kolmogorov-Smirnov 1-sample test"
   ]
  },
  {
   "cell_type": "code",
   "execution_count": 17,
   "metadata": {},
   "outputs": [
    {
     "name": "stdout",
     "output_type": "stream",
     "text": [
      "pvalue is: 1.4106325662317895e-265 < 0.05 .Thus, the null hypothesis, the sample has the same distribution as the known distribution IS rejected.\n"
     ]
    }
   ],
   "source": [
    "# used to compare a sample with a known distribution\n",
    "# To reject or not reject the Null hypothesis that the sample has the same distribution as the known distribution\n",
    "\n",
    "# we will use random variables from a lognormal and compare with a Normal distribution\n",
    "mu = 1; sigma = 1\n",
    "distribution = stats.lognorm(mu, sigma)\n",
    "sample = distribution.rvs(size=1000)\n",
    "known_distribution = stats.norm(1,1).cdf\n",
    "\n",
    "ksample = stats.ks_1samp(sample, known_distribution)\n",
    "\n",
    "if ksample.pvalue < 0.05:\n",
    "    print('pvalue is:',ksample.pvalue, '< 0.05 .Thus, the null hypothesis, the sample has the same distribution as the known distribution IS rejected.')\n",
    "else:\n",
    "    print('pvalue is:',ksample.pvalue, '> 0.05 .Thus, the null hypothesis, the sample has the same distribution as the known distribution IS NOT rejected.')\n"
   ]
  },
  {
   "attachments": {},
   "cell_type": "markdown",
   "metadata": {},
   "source": [
    "Kolmogorov-Smirnov 2-sample test"
   ]
  },
  {
   "cell_type": "code",
   "execution_count": 18,
   "metadata": {},
   "outputs": [
    {
     "name": "stdout",
     "output_type": "stream",
     "text": [
      "pvalue is: 0.0 < 0.05 .Thus, the Null hypothesis, the two samples have the same distribution IS rejected.\n"
     ]
    }
   ],
   "source": [
    "# used to compare two samples\n",
    "# To reject or not reject the Null hypothesis that the two samples have the same distribution\n",
    "\n",
    "# we will use random variables from a lognormal and uniform distribution respectively.\n",
    "distribution = stats.lognorm(mu, sigma)\n",
    "sample = distribution.rvs(size=1000)\n",
    "\n",
    "distribution2 = stats.uniform()\n",
    "sample2 = distribution2.rvs(size=1000)\n",
    "\n",
    "k2sample = stats.ks_2samp(sample,sample2)\n",
    "\n",
    "if k2sample.pvalue < 0.05:\n",
    "    print('pvalue is:',k2sample.pvalue, '< 0.05 .Thus, the Null hypothesis, the two samples have the same distribution IS rejected.')\n",
    "else:\n",
    "    print('pvalue is:',k2sample.pvalue, '> 0.05 .Thus, the null hypothesis, the two samples have the same distribution IS NOT rejected.')\n"
   ]
  },
  {
   "attachments": {},
   "cell_type": "markdown",
   "metadata": {},
   "source": [
    "Goodness of Fit test"
   ]
  },
  {
   "cell_type": "code",
   "execution_count": 33,
   "metadata": {},
   "outputs": [
    {
     "name": "stdout",
     "output_type": "stream",
     "text": [
      "pvalue is: 0.0001 < 0.05 .Thus, the null hypothesis, the data were drawn from a distribution in that family IS rejected.\n"
     ]
    },
    {
     "data": {
      "image/png": "[encoded data removed]",
      "text/plain": [
       "<Figure size 1440x360 with 1 Axes>"
      ]
     },
     "metadata": {
      "needs_background": "light"
     },
     "output_type": "display_data"
    }
   ],
   "source": [
    "# Performs a test null hypothesis that the data were drawn from a distribution in that family.  \n",
    "\n",
    "# Using Goodness of Fit tests for lognormal variables and normal distribution\n",
    "mu = 1; sigma = 1\n",
    "distribution = stats.lognorm(mu, sigma)\n",
    "sample = distribution.rvs(size=1000)\n",
    "\n",
    "# The statistic stands for 'ks': Kolmogoro-smirnov, 'ad': Anderson-Darling, 'cvm': Cramer-von-Mises\n",
    "fit_test = stats.goodness_of_fit(stats.norm, sample, statistic = 'ks')\n",
    "\n",
    "# plots the data and fitted distribution pdf\n",
    "fig, ax = plt.subplots(figsize=(20, 5))\n",
    "figure = fit_test.fit_result.plot(ax=ax)\n",
    "\n",
    "if fit_test.pvalue < 0.05:\n",
    "    print('pvalue is:',fit_test.pvalue, '< 0.05 .Thus, the null hypothesis, the data were drawn from a distribution in that family IS rejected.')\n",
    "else:\n",
    "    print('pvalue is:',fit_test.pvalue, '> 0.05 .Thus, the null hypothesis, the data were drawn from a distribution in that family IS NOT rejected.')"
   ]
  },
  {
   "attachments": {},
   "cell_type": "markdown",
   "metadata": {},
   "source": [
    "F-Test"
   ]
  },
  {
   "cell_type": "code",
   "execution_count": 20,
   "metadata": {},
   "outputs": [
    {
     "name": "stdout",
     "output_type": "stream",
     "text": [
      "pvalue is: 1.4340432844348772e-102 < 0.05 .Thus, the null hypothesis, the two normal distributions have the same mean IS rejected.\n"
     ]
    },
    {
     "data": {
      "image/png": "[encoded data removed]",
      "text/plain": [
       "<Figure size 1440x360 with 2 Axes>"
      ]
     },
     "metadata": {
      "needs_background": "light"
     },
     "output_type": "display_data"
    }
   ],
   "source": [
    "# F-test is only applicable for normal distributions with equal standard deviations.\n",
    "# To reject or Not reject the Null hypothesis that the two normal distributions have the same mean\n",
    "fig, (ax1, ax2) = plt.subplots(1, 2, figsize = (20,5))\n",
    "fig.suptitle('Two Normal Distributions with different Mean')\n",
    "\n",
    "# Creating the two normal distributions with different means\n",
    "distribution = stats.norm(loc=2, scale=1)\n",
    "sample =  distribution.rvs(size=1000)\n",
    "\n",
    "distribution2 = stats.norm(loc=1, scale=1)\n",
    "sample2 =  distribution2.rvs(size=1000)\n",
    "\n",
    "# Density = True means that the area under the graph integrates to 1. alpha is opacity of graph\n",
    "ax1.set_xlabel('Value'); ax1.set_ylabel('Count')\n",
    "ax1.hist(sample, density = True, color = 'b', alpha = 0.5)\n",
    "\n",
    "# # Density = True means that the area under the graph integrates to 1. alpha is opacity of graph\n",
    "ax2.set_xlabel('Value'); ax2.set_ylabel('Count')\n",
    "ax2.hist(sample2, density = True, color = 'k', alpha = 0.5)\n",
    "\n",
    "# performing F-test\n",
    "f_test = stats.f_oneway(sample,sample2)\n",
    "\n",
    "if f_test.pvalue < 0.05:\n",
    "    print('pvalue is:',f_test.pvalue, '< 0.05 .Thus, the null hypothesis, the two normal distributions have the same mean IS rejected.')\n",
    "else:\n",
    "    print('pvalue is:',f_test.pvalue, '> 0.05 .Thus, the null hypothesis, the two normal distributions have the same mean IS NOT rejected.')"
   ]
  },
  {
   "attachments": {},
   "cell_type": "markdown",
   "metadata": {},
   "source": [
    "<hr style=\"height:10px;border:none;background-color:rgb(255, 255, 0);\">"
   ]
  },
  {
   "attachments": {},
   "cell_type": "markdown",
   "metadata": {},
   "source": [
    "### Limitations of Statistical Tests"
   ]
  },
  {
   "attachments": {},
   "cell_type": "markdown",
   "metadata": {},
   "source": [
    "As with all statistical tests, there are limitations that come with them. <br>\n",
    "For example ,the Kolmogorov-smirnov(KS) test measures the maximum distance between the empirical Cumulative distribution function (ECDF) and the comparison step function of the second dataset. <br>\n",
    "But, the KS statistic is only sensitive towards the differences in the medians and insensitive when the differences between the curves is most prominent near the beginning or end of the distributions (the tails). <br> The Anderson-Darling test is a weighted test that would be more suited when using the goodness of fit test.\n",
    "\n",
    "Another example would be tests that bin data. <br>\n",
    "A chi-squared test is used to compare binned data (e.g. a histogram) with another set of binned data. <br>\n",
    "A ks test is applied to unbinned data to compare the cumulative frequency of two distributions. <br>\n",
    "By binning the data, we are discretising the data and thereby also losing some data with it. It is not recommended for continuous variables. <br> Therefore, there must be a good reasons as significant distinctions between each bin, or cut-offs that pertain to different categories (credit scores perhaps)"
   ]
  },
  {
   "cell_type": "code",
   "execution_count": 21,
   "metadata": {},
   "outputs": [
    {
     "name": "stdout",
     "output_type": "stream",
     "text": [
      "Time: 6.956146717071533\n"
     ]
    }
   ],
   "source": [
    "# Track program execution \n",
    "print(f'Time: {time.time() - start}')"
   ]
  },
  {
   "attachments": {},
   "cell_type": "markdown",
   "metadata": {},
   "source": [
    "<hr style=\"height:10px;border:none;background-color:rgb(255, 255, 0);\">"
   ]
  },
  {
   "attachments": {},
   "cell_type": "markdown",
   "metadata": {},
   "source": [
    "### Appendix"
   ]
  },
  {
   "attachments": {},
   "cell_type": "markdown",
   "metadata": {},
   "source": [
    "| Index | Documentation  |\n",
    "|--------------|------|\n",
    "|   Pandas     | https://pandas.pydata.org/pandas-docs/stable/reference/|\n",
    "|   Numpy      | https://numpy.org/doc/1.24/reference/index.html|\n",
    "|   Scipy      | https://docs.scipy.org/doc/scipy/reference/stats.html|\n",
    "|   Statsmodels| https://www.statsmodels.org/stable/api.html|\n",
    "|   Plotly     | https://plotly.com/python/time-series/ |\n",
    "|   Latex      | https://www.overleaf.com/learn/latex/Subscripts_and_superscripts |\n",
    "\n",
    "\n",
    "Some ideas from using the tests:\n",
    "-  distribution of stock prices and returns\n",
    "-  distribution of option prices\n",
    "-  show that they are conditional moments suitable for prices and returns\n",
    "\n",
    "References:\n",
    "<nav>\n",
    "<a href=https://stats.stackexchange.com/questions/403237/kolmogorov-smirnov-test-vs-anderson-darling-test>Limitations of KS test</a> |\n",
    "<a href=https://physics.stackexchange.com/questions/107682/kolmogorov-smirnov-test-vs-chi-squared-test>Comparison of KS and chi-squared test</a> |\n",
    "<a href=https://discourse.datamethods.org/t/categorizing-continuous-variables/3402>Problems of categorising Continuous Variables</a> | \n",
    "<a href=https://userweb.ucs.louisiana.edu/~kxk4695/JSPI-04.pdf>Poisson Test</a> <br>\n",
    "<a href=https://www.statology.org/central-limit-theorem>Central Limit Theorem</a> |\n",
    "<a href=https://python-bloggers.com/2020/11/law-of-large-numbers-and-the-central-limit-theorem-with-python>Law of Large Numbers</a> |\n",
    "</nav> "
   ]
  }
 ],
 "metadata": {
  "kernelspec": {
   "display_name": "Python 3",
   "language": "python",
   "name": "python3"
  },
  "language_info": {
   "codemirror_mode": {
    "name": "ipython",
    "version": 3
   },
   "file_extension": ".py",
   "mimetype": "text/x-python",
   "name": "python",
   "nbconvert_exporter": "python",
   "pygments_lexer": "ipython3",
   "version": "3.10.2"
  },
  "orig_nbformat": 4
 },
 "nbformat": 4,
 "nbformat_minor": 2
}
