{
 "cells": [
  {
   "cell_type": "markdown",
   "metadata": {},
   "source": [
    "# **<center><mark> Exotics </mark> </center>**"
   ]
  },
  {
   "cell_type": "markdown",
   "metadata": {},
   "source": [
    "**Background Information:**\n",
    "- Exotics are options/derivatives that have features which are more complex than vanilla options <br> \n",
    "- They depend on more variables than just the stock price at Maturity. These are called path-dependent options <br>\n",
    "- The payoff thus depends on what the path of the stock price leading up to its Maturity <br>\n",
    "- They exist because vanilla options are too rigid to protect from specific financial risks <br>\n",
    "- The options will be priced equal to their Expected Average payoffs <br>\n",
    "- The list of Exotics below are not exhaustive <br>\n",
    "*All calculations will be done using monte carlo simulation"
   ]
  },
  {
   "cell_type": "markdown",
   "metadata": {},
   "source": [
    "<hr style=\"height:10px;border:none;background-color:rgb(255, 255, 0);\">"
   ]
  },
  {
   "cell_type": "markdown",
   "metadata": {},
   "source": [
    "1. Simulating underlying price (lognormal Distribution)\n",
    "$$\n",
    "    dS(t) = rS(t)dt + \\sigma S(t)dB(t)\n",
    "$$ \n",
    "2. Geometric Brownian motion \n",
    "$$ \n",
    "    S(t + dt) = S(t){e^{(r - {\\sigma ^2/2})dt + \\sigma \\sqrt(dt)Z_t}} \\\\\n",
    "    lnS(t + dt) = lnS(t) + (r - {\\sigma ^2/2})dt + \\sigma \\sqrt(dt)Z_t\n",
    "$$"
   ]
  },
  {
   "cell_type": "code",
   "execution_count": 54,
   "metadata": {},
   "outputs": [],
   "source": [
    "import numpy as np\n",
    "import matplotlib.pyplot as plt\n",
    "from scipy.stats import norm, percentileofscore\n",
    "\n",
    "# simulate prices based on geometric brownian motion\n",
    "spot_price = 100\n",
    "strike_price = 105\n",
    "Time = 1\n",
    "risk_free_rate = 0.05\n",
    "sigma = 0.2\n",
    "simulations = 100000 # can change number of simulations according to your CPU limits\n",
    "Time_steps = 100\n",
    "\n",
    "dt = Time / Time_steps\n",
    "\n",
    "# rows represent simulations, columns represent timesteps\n",
    "random = np.random.normal(size=(simulations, Time_steps))\n",
    "\n",
    "# The ratio matrix represent the ratio of each price to the previous timestep \n",
    "ratio_matrix = np.exp((risk_free_rate - sigma * sigma / 2) * dt + sigma * random * np.sqrt(dt))\n",
    "\n",
    "# Now calculate the prices using the cumulative product of the ratios\n",
    "prices = spot_price * np.cumprod(ratio_matrix, axis=1)"
   ]
  },
  {
   "cell_type": "markdown",
   "metadata": {},
   "source": [
    "<hr style=\"height:10px;border:none;background-color:rgb(255, 255, 0);\">"
   ]
  },
  {
   "cell_type": "markdown",
   "metadata": {},
   "source": [
    "<center><b><h3>Asian Options </h3></b> </center>"
   ]
  },
  {
   "cell_type": "markdown",
   "metadata": {},
   "source": [
    "- The payoff of Asian options depends on the average of the price of the\n",
    "underlying until its Maturity. Therefore, the payoff is far less sensitive to the\n",
    "final value of the underlying. <br>\n",
    "- This is useful for options which may be subject to fluctuations or market manipulations right before Maturity"
   ]
  },
  {
   "cell_type": "markdown",
   "metadata": {},
   "source": [
    "- Option Payoff\n",
    "$$\n",
    "    payoff = max\\{average(assetprice) - K\\}\\\\ \n",
    "$$\n",
    "- Variance\n",
    "$$\n",
    "    \\frac{1}{N-1} \\sum_{i=1}^n (Payoff - Average)^2\n",
    "$$\n",
    "- Standard Error\n",
    "$$\n",
    "    \\sqrt \\frac{Variance}{N}\n",
    "$$\n",
    "\n",
    "Where Z(t) is a standard normal r.v. <br>\n",
    "      S(t) is stock price at Time t <br>\n",
    "      K is option strike price <br>\n",
    "      B(t) is Brownian Motion <br>"
   ]
  },
  {
   "cell_type": "code",
   "execution_count": 55,
   "metadata": {},
   "outputs": [
    {
     "name": "stdout",
     "output_type": "stream",
     "text": [
      "Asian Option call price is:  3.573752215050642\n",
      "Variance of call price is:  46.793562431253534\n",
      "Standard error is:  0.021631819718011133\n"
     ]
    }
   ],
   "source": [
    "# Calculate the Asian call payoff per simulation, get the mean of each simulation\n",
    "payoffs = np.maximum(0, np.mean(prices, axis=1) - strike_price)\n",
    "\n",
    "# Call_price is the average of all simulations\n",
    "Asian_Option_call_price = np.mean(payoffs)*np.exp(-risk_free_rate*Time)\n",
    "\n",
    "# calculate the variance of payoffs for the Asian Option\n",
    "var_matrix = np.power((payoffs - Asian_Option_call_price),2)\n",
    "variance = np.sum(var_matrix)/(simulations-1)\n",
    "\n",
    "# calculate standard error for calculation\n",
    "standard_error = np.sqrt(variance/simulations)\n",
    "\n",
    "print(\"Asian Option call price is: \",Asian_Option_call_price)\n",
    "print(\"Variance of call price is: \",variance)\n",
    "print(\"Standard error is: \",standard_error)"
   ]
  },
  {
   "cell_type": "markdown",
   "metadata": {},
   "source": [
    "<hr style=\"height:10px;border:none;background-color:rgb(255, 255, 0);\">"
   ]
  },
  {
   "cell_type": "markdown",
   "metadata": {},
   "source": [
    "<center><b><h3>Lookback Options </h3></b> </center>"
   ]
  },
  {
   "cell_type": "markdown",
   "metadata": {},
   "source": [
    "- They are similar to calls or puts But are dependent on the Maximum of Minimum price of the underlying until its Maturity\n",
    "\n",
    "- Payoff of lookback call: $$[Max(T) - S(T)]$$\n",
    "- Payoff of lookback put: $$[S(T) - Min(T)]$$"
   ]
  },
  {
   "cell_type": "code",
   "execution_count": 56,
   "metadata": {},
   "outputs": [
    {
     "name": "stdout",
     "output_type": "stream",
     "text": [
      "Price of lookback call is:  13.75615243846724\n",
      "Price of lookback put is:  16.055970740060452\n"
     ]
    }
   ],
   "source": [
    "# Calculate the Average Maximum price\n",
    "payoffs = np.maximum(0,np.amax(prices - strike_price, axis=1))\n",
    "Average_Max_Price = np.sum(payoffs)/simulations\n",
    "\n",
    "# Calculate the Average Minimum price\n",
    "payoffs = np.maximum(0,np.amax(strike_price - prices, axis=1))\n",
    "Average_Min_Price = np.sum(payoffs)/simulations\n",
    "\n",
    "# Calculate the payoffs of each lookback option\n",
    "lookbackpayoffofcall = Average_Max_Price*np.exp(-risk_free_rate*Time)\n",
    "lookbackpayoffofput = Average_Min_Price*np.exp(-risk_free_rate*Time)\n",
    "\n",
    "print(\"Price of lookback call is: \",lookbackpayoffofcall)\n",
    "print(\"Price of lookback put is: \",lookbackpayoffofput)"
   ]
  },
  {
   "cell_type": "markdown",
   "metadata": {},
   "source": [
    "<hr style=\"height:10px;border:none;background-color:rgb(255, 255, 0);\">"
   ]
  },
  {
   "cell_type": "markdown",
   "metadata": {},
   "source": [
    "<center><b><h3>Barrier Options </h3></b> </center>"
   ]
  },
  {
   "cell_type": "markdown",
   "metadata": {},
   "source": [
    "- The payoff depends on whether the price of the underlying crosses, or does not cross a certain price barrier throughout its life.\n",
    "- If the underlying does not cross the price barrier, then the option expires worthless\n",
    "- They are called knock-in and knock-out options"
   ]
  },
  {
   "cell_type": "code",
   "execution_count": 57,
   "metadata": {},
   "outputs": [
    {
     "name": "stdout",
     "output_type": "stream",
     "text": [
      "Price of Barrier Option is:  3.0190143623654073\n"
     ]
    }
   ],
   "source": [
    "# example where barrier to not drop below is $99\n",
    "Barrier_price = 99\n",
    "\n",
    "# Calculate the payoff per simulation\n",
    "payoffs = np.maximum(0, prices - Barrier_price)\n",
    "\n",
    "# count rows where any payoff did not hit zero, which means the options are not knocked out\n",
    "Barrier_rows = np.where(np.prod(payoffs, axis=1)!=0)[0]\n",
    "\n",
    "# sum all the Final payoffs of Barrier_rows\n",
    "Barrier_total = 0\n",
    "for i in Barrier_rows:\n",
    "    Barrier_total += payoffs[i][-1]\n",
    "\n",
    "# divide over total simulations and discount using risk_free_rate\n",
    "Barrier_option_price = Barrier_total/simulations*np.exp(-risk_free_rate*Time)\n",
    "\n",
    "print(\"Price of Barrier Option is: \",Barrier_option_price)"
   ]
  },
  {
   "cell_type": "markdown",
   "metadata": {},
   "source": [
    "<hr style=\"height:10px;border:none;background-color:rgb(255, 255, 0);\">"
   ]
  },
  {
   "cell_type": "markdown",
   "metadata": {},
   "source": [
    "<center><b><h3>Basket Options </h3></b> </center>"
   ]
  },
  {
   "cell_type": "markdown",
   "metadata": {},
   "source": [
    "- Basket Options pay the weighted average of the underlying in the basket"
   ]
  },
  {
   "cell_type": "code",
   "execution_count": 58,
   "metadata": {},
   "outputs": [
    {
     "name": "stdout",
     "output_type": "stream",
     "text": [
      "Price of Basket Option is:  3.2963832887080247\n"
     ]
    }
   ],
   "source": [
    "# Example would be 50% Asian option, 50% Barrier Option\n",
    "Basket_Option_price = 0.5*Asian_Option_call_price + 0.5*Barrier_option_price\n",
    "\n",
    "print(\"Price of Basket Option is: \",Basket_Option_price)"
   ]
  },
  {
   "cell_type": "markdown",
   "metadata": {},
   "source": [
    "<hr style=\"height:10px;border:none;background-color:rgb(255, 255, 0);\">"
   ]
  },
  {
   "cell_type": "markdown",
   "metadata": {},
   "source": [
    "<center><b><h3>Binary Options </h3></b> </center>"
   ]
  },
  {
   "cell_type": "markdown",
   "metadata": {},
   "source": [
    "- A binary, or digital, option pays one dollar if the underlying ends\n",
    "up above a given strike price K, and zero dollars otherwise. However, the payoff is discontinuous.\n",
    "- The option price based on the Merton-Black-Scholes model is:\n",
    "$$e^{-rT}N(d_2)$$\n",
    "where \n",
    "$$d_1 = \\frac{1}{\\sigma\\sqrt(T-t)}[log(s/K) + (r-q+\\frac{\\sigma^2}{2})(T-t)$$\n",
    "$$d_2 = d_1 - \\sigma\\sqrt(T-t)$$"
   ]
  },
  {
   "cell_type": "code",
   "execution_count": 59,
   "metadata": {},
   "outputs": [
    {
     "name": "stdout",
     "output_type": "stream",
     "text": [
      "Price of binary option is:  0.37554537679288186\n"
     ]
    }
   ],
   "source": [
    "# We assume the payoff per simulation is either $1 or $0 for simplicity\n",
    "# Calculate the Payoffs per simulation\n",
    "payoffs = np.maximum(0, np.mean(prices, axis=1) - strike_price)\n",
    "\n",
    "# Count percentage of non-zero payoffs simulations\n",
    "binarypayoffs = np.count_nonzero(payoffs)/simulations\n",
    "\n",
    "# Discount the binarypayoffs to get the option price\n",
    "binaryoption = binarypayoffs*np.exp(-risk_free_rate*Time)\n",
    "\n",
    "print(\"Price of binary option is: \",binaryoption)"
   ]
  },
  {
   "cell_type": "markdown",
   "metadata": {},
   "source": [
    "<hr style=\"height:10px;border:none;background-color:rgb(255, 255, 0);\">"
   ]
  },
  {
   "cell_type": "markdown",
   "metadata": {},
   "source": [
    "<center><b><h3>Bermudan Options </h3></b> </center>"
   ]
  },
  {
   "cell_type": "markdown",
   "metadata": {},
   "source": [
    "- Bermudan options are similar to American options, except that they\n",
    "can be exercised only at specific dates or during specific time intervals. \n",
    "- Mathematically, the price is determined as a maximum of expectations taken over all stopping times taking values in the set of the possible exercise times."
   ]
  },
  {
   "cell_type": "markdown",
   "metadata": {},
   "source": [
    "<hr style=\"height:10px;border:none;background-color:rgb(255, 255, 0);\">"
   ]
  },
  {
   "cell_type": "markdown",
   "metadata": {},
   "source": [
    "<center><b><h3>Chooser Options </h3></b> </center>"
   ]
  },
  {
   "cell_type": "markdown",
   "metadata": {},
   "source": [
    "- Chooser Options allow the holder to choose whether the option will be a call or put at Maturity\n",
    "- The payoff of the chooser option is as follows:\n",
    "$$ Max[C(T),P(T)] = Max[C(T),C(T)+Ke^{-r(T-t)}-S(T)]$$\n",
    "$$ = C(T) + Max[0,Ke^{-r(T-t)}-S(T)]$$"
   ]
  },
  {
   "cell_type": "code",
   "execution_count": 60,
   "metadata": {},
   "outputs": [
    {
     "name": "stdout",
     "output_type": "stream",
     "text": [
      "Average Payoff of call option is:  8.47401550644663\n",
      "Average Payoff of put option is:  8.294945833524476\n",
      "Price of chooser option is:  8.47401550644663\n"
     ]
    }
   ],
   "source": [
    "# Calculate and sum the call payoffs for each simulation\n",
    "choosercallpayoffs = np.maximum(0, prices - strike_price)\n",
    "sum1 = 0\n",
    "for i in range(simulations):\n",
    "    sum1 += choosercallpayoffs[i][-1]\n",
    "\n",
    "# Calculate and sum the put payoffs for each simulation\n",
    "sum2 = 0\n",
    "chooserputpayoffs = np.maximum(0, strike_price - prices)\n",
    "for i in range(simulations):\n",
    "    sum2 += chooserputpayoffs[i][-1]\n",
    "\n",
    "# Get the price of the chooser option based on the max payoff of the call and put\n",
    "chooser_option_price = np.maximum(sum1,sum2)/simulations\n",
    "\n",
    "print(\"Average Payoff of call option is: \", sum1/simulations)\n",
    "print(\"Average Payoff of put option is: \", sum2/simulations)\n",
    "print(\"Price of chooser option is: \",chooser_option_price)\n"
   ]
  },
  {
   "cell_type": "markdown",
   "metadata": {},
   "source": [
    "<hr style=\"height:10px;border:none;background-color:rgb(255, 255, 0);\">"
   ]
  },
  {
   "cell_type": "markdown",
   "metadata": {},
   "source": [
    "<center><b><h3>Range Options </h3></b> </center>"
   ]
  },
  {
   "cell_type": "markdown",
   "metadata": {},
   "source": [
    "- Range options allow the holder to choose the range of prices over which the underlying will fluctuate\n",
    "- If the future price exceeds the range (e.g. +-5 of spot price), then the option will expire worthless\n",
    "- Otherwise, the holder will receive a specific payoff (most likely dependent on probability of price range)"
   ]
  },
  {
   "cell_type": "code",
   "execution_count": 63,
   "metadata": {},
   "outputs": [
    {
     "name": "stdout",
     "output_type": "stream",
     "text": [
      "40th percentile is:  98.36352244827333\n",
      "50th percentile is:  101.10240701454474\n",
      "60th percentile is:  104.09909784500792\n",
      "[0.057 0.028 0.    ... 0.014 0.047 0.031]\n",
      "[0.099 0.075 0.029 ... 0.07  0.083 0.091]\n"
     ]
    }
   ],
   "source": [
    "print(\"40th percentile is: \",np.percentile(prices,40))\n",
    "print(\"50th percentile is: \",np.percentile(prices,50))\n",
    "print(\"60th percentile is: \",np.percentile(prices,60))\n",
    "\n",
    "percentile_of_95 = percentileofscore(prices, 95)\n",
    "percentile_of_105 = percentileofscore(prices, 105)\n",
    "\n",
    "print(percentile_of_95)\n",
    "print(percentile_of_105)\n",
    "# try to get probability ranges based on percentile"
   ]
  },
  {
   "cell_type": "markdown",
   "metadata": {},
   "source": [
    "<hr style=\"height:10px;border:none;background-color:rgb(255, 255, 0);\">"
   ]
  },
  {
   "cell_type": "markdown",
   "metadata": {},
   "source": [
    "<center><b><h3>Quanto Options </h3></b> </center>"
   ]
  },
  {
   "cell_type": "markdown",
   "metadata": {},
   "source": [
    "<hr style=\"height:10px;border:none;background-color:rgb(255, 255, 0);\">"
   ]
  },
  {
   "cell_type": "markdown",
   "metadata": {},
   "source": [
    "<center><b><h3>Rainbow Options </h3></b> </center>"
   ]
  },
  {
   "cell_type": "markdown",
   "metadata": {},
   "source": [
    "<hr style=\"height:10px;border:none;background-color:rgb(255, 255, 0);\">"
   ]
  }
 ],
 "metadata": {
  "kernelspec": {
   "display_name": "Python 3",
   "language": "python",
   "name": "python3"
  },
  "language_info": {
   "codemirror_mode": {
    "name": "ipython",
    "version": 3
   },
   "file_extension": ".py",
   "mimetype": "text/x-python",
   "name": "python",
   "nbconvert_exporter": "python",
   "pygments_lexer": "ipython3",
   "version": "3.10.2"
  }
 },
 "nbformat": 4,
 "nbformat_minor": 2
}
